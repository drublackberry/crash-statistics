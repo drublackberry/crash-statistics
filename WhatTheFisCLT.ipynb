{
 "cells": [
  {
   "cell_type": "markdown",
   "metadata": {},
   "source": [
    "I have to admit that I have been in the darkness for long years when it comes to statistics. Things like confidence intervals, p-values, hypothesis testing, central limit theorem, sample and population were a big blurry mess in my brain.\n",
    "\n",
    "I lost my virginity on statistics with the [LEON]. This is dense stuff for electro-technical engineering so you need some vaseline first, I guess.\n",
    "\n",
    "Lately I started reading some funny medium posts [HERE] and [HERE] and finally I decided to pick-up a MOOC and follow it to the bits I was interested in. I picked [THIS ONE] by Brian Caffo from the John Hopkins School of Biostatistics and I can only recommend it. \n",
    "\n",
    "Thank you Brian for showing me the light. \n",
    "\n",
    "The problem is that I know I will forget in some time, so I needed my own notes. I decided to write them as blog posts since you know *sharing is caring*. But I know that the heaviest user of this post will be my future me.\n",
    "\n",
    "# But really, what the f is CLT?\n",
    "\n",
    "This notebook will try to illustrate what is the almighty **Central Limit Theorem**, (CLT, for short, is a not a sandwhich) and why is it important in statistics.\n",
    "\n",
    "But first let's try with some basic concepts.\n",
    "\n",
    "# Population, sample and the Law of Large Numbers\n",
    "Now imagine you have a random variable, let's be original and call it $X$. Our new friend is of random nature, this means that it can take any shape (value) within the nature given by its statistical properties. But we do not know those statistical properties, at least completely, our best shot is to estimate them - which is, kind of trying.\n",
    "\n",
    "And that is a big difference. Imagine we observe $X$ a number of times $n$. Then we see the vector of observations $(x_1, ..., x_n)$ - this is what we call the **sample**. And from this sample we can estimate some statistical properties, like the sample mean, sample variance or approximate distribution.\n",
    "\n",
    "But all these are just estimates of the real thing. The real thing is what we call the **population** and thus the true mean is the population mean and so on.\n",
    "Here is where the **Law of Large Numbers** comes in handy, it basically says that we can only know perfectly the statistical properties of a random variable if we know *all* its values. Like *all of them*. Which basically means that we need *infinite* observations - which is impossible.\n",
    "\n",
    "The funniest way to look at this is to think that if you put infinite monkeys and all of them write a random letter of the alphabet, and you repeat this experiment infinite times you will end up with the Quijote, somewhere.\n",
    "\n",
    "# The sample mean, your new best friend\n",
    "Imagine that we are observing our friend $X$ and we take a number of observations $(x_1,...,x_n)$. We can compute the sample mean of this observation: $\\bar X$.\n",
    "\n",
    "And here's the mindblowing twist. You can repeat this experiment a number of times and you will end up with different values of the sample mean, because the observations of $X$ are different. Which means that the sample mean is another random variable $\\bar X$.\n",
    "\n",
    "Let's make an experiment to illustrate this.\n",
    "\n",
    "### Example: Geting a flavor for the elections\n",
    "So you are running for president (after all Trump won, so why not?). You want to know how are you doing, so go ask a number of people if you need to bribe them or they would already vote for you."
   ]
  },
  {
   "cell_type": "code",
   "execution_count": 1,
   "metadata": {},
   "outputs": [
    {
     "name": "stdout",
     "output_type": "stream",
     "text": [
      "Sample mean for this draw is 0.5\n"
     ]
    },
    {
     "data": {
      "image/png": "[encoded data removed]",
      "text/plain": [
       "<matplotlib.figure.Figure at 0x10d2c8ba8>"
      ]
     },
     "metadata": {},
     "output_type": "display_data"
    }
   ],
   "source": [
    "import numpy as np\n",
    "import matplotlib.pyplot as plt\n",
    "\n",
    "sample_size = 10  # you ask this many people\n",
    "p = 0.55  # you don't know this, but the population probability is this one\n",
    "sample_x = np.random.binomial(1, p, size=sample_size)\n",
    "print(\"Sample mean for this draw is {}\".format(np.mean(sample_x)))\n",
    "plt.hist(sample_x)\n",
    "plt.show()"
   ]
  },
  {
   "cell_type": "markdown",
   "metadata": {},
   "source": [
    "If you run yourself the code you will get a sample mean that is a bit off the probability value we fed in. Recall that for a binomial its mean is the probability of success.\n",
    "\n",
    "Now let's repeat this experiment a number of times, like a lot and let's draw the distribution/histogram of the sample means we are obtaining."
   ]
  },
  {
   "cell_type": "code",
   "execution_count": 2,
   "metadata": {},
   "outputs": [
    {
     "data": {
      "image/png": "[encoded data removed]",
      "text/plain": [
       "<matplotlib.figure.Figure at 0x10d2c8ac8>"
      ]
     },
     "metadata": {},
     "output_type": "display_data"
    }
   ],
   "source": [
    "sample_vec = [np.mean(np.random.binomial(1, p, size=sample_size)) for i in range(100)]\n",
    "plt.hist(sample_vec, bins=10)\n",
    "plt.title(\"Distribution of the sample means observed\")\n",
    "plt.show()"
   ]
  },
  {
   "cell_type": "markdown",
   "metadata": {},
   "source": [
    "By inspecting the data and wearing a Sherlock Holmes hat you kinda can guess that the odds look good for you. But that's \n",
    "not the point. The point is CLT.\n",
    "\n",
    "# The Central Limit Theorem in the flesh\n",
    "The moment has arrived, what on earth is the CLT? Well it basically says that if you have a number or random variables, of whatever nature (Poissons, Gaussian, Pikachu, Meeseks...) and you add them altogether you have a new random variable, this resulting random variable would become a Gaussian always. Provided that there's enough data (i.e. $n$ is large enough, so you have enough random variables to average in).\n",
    "\n",
    "$$ Y = X_1 + X_2 + ... + X_n $$\n",
    "\n",
    "Shoot, that looks like a lot like a sample meanm, that's it, *if you consider that it is all the same random variable, being multiple random variables with exactly the same statistical properties*.\n",
    "\n",
    "$$ \\bar X = {1\\over n} \\sum_i^n X_i $$\n",
    "\n",
    "Being $X_i$ just the same random variable observed $n$ times.\n",
    "\n",
    "### The elections example strikes back\n",
    "Wait, we did that already just now. We just tried to plot the distribution of sample means we were getting and it didn't look very gaussian. \n",
    "\n",
    "Hold my beer. \n",
    "\n",
    "Remember I said *provided there's enough data*. Let's factor this in. Let's increase the sample size - this is, the number of variables we are averaging - and plot the distributions for the same number of draws."
   ]
  },
  {
   "cell_type": "code",
   "execution_count": 3,
   "metadata": {},
   "outputs": [
    {
     "data": {
      "image/png": "[encoded data removed]",
      "text/plain": [
       "<matplotlib.figure.Figure at 0x1173c3d30>"
      ]
     },
     "metadata": {},
     "output_type": "display_data"
    }
   ],
   "source": [
    "sample_sizes = [3, 5, 7, 10, 100]\n",
    "fig, ax = plt.subplots(1, len(sample_sizes), sharey=True, figsize=(14,4))\n",
    "for s in range(len(sample_sizes)):\n",
    "    sample_vec = [np.mean(np.random.binomial(1, p, size=sample_sizes[s])) for i in range(10000)]\n",
    "    ax[s].hist(sample_vec, bins=100)\n",
    "    ax[s].set_title(\"size = {}\".format(sample_sizes[s]))\n",
    "plt.show()"
   ]
  },
  {
   "cell_type": "markdown",
   "metadata": {},
   "source": [
    "Do you see the magic there?\n",
    "\n",
    "We made the very same number of draws (high, around 10000) and calculated the sample mean on all of them. When the sample size was small we did not see any shape but as we go increasing the sample size it just becomes evident that it is gaussian.\n",
    "\n",
    "### Example 2: Poisson distribution\n",
    "\n",
    "Imagine that you are now observing arrival times. Say you are running a shop and you are counting how many clients are entering the shop at a given time interval. The door is very narrow and only one person can arrive at a time. Also this shop is very suspicious and people normally would show up alone (yeah, go figure what kinda shop is that)."
   ]
  },
  {
   "cell_type": "code",
   "execution_count": 4,
   "metadata": {},
   "outputs": [
    {
     "data": {
      "image/png": "[encoded data removed]",
      "text/plain": [
       "<matplotlib.figure.Figure at 0x1177a3d30>"
      ]
     },
     "metadata": {},
     "output_type": "display_data"
    }
   ],
   "source": [
    "r = 2\n",
    "T = 2\n",
    "lam = r*T\n",
    "sample_sizes = [1, 3, 5, 7, 10, 100]\n",
    "fig, ax = plt.subplots(1, len(sample_sizes), sharey=True, figsize=(14,4))\n",
    "for s in range(len(sample_sizes)):\n",
    "    sample_vec = [np.mean(np.random.poisson(lam, size=sample_sizes[s])) for i in range(10000)]\n",
    "    ax[s].hist(sample_vec, bins=100)\n",
    "    ax[s].set_title(\"size = {}\".format(sample_sizes[s]))\n",
    "plt.show()"
   ]
  },
  {
   "cell_type": "markdown",
   "metadata": {},
   "source": [
    "Your immediate reaction here would be something like: *wait, this is gaussian already.* \n",
    "\n",
    "Not quite.\n",
    "\n",
    "When you have just one sample, you just take draws of the original distribution ($X$) hence the first plot is basically an approximation of a Poisson process with a mean of $\\lambda$. You can see the shape quite well since we are doing loads of draws (10000). When you start doing averages of 3, 5 up to 100 you see that the shape has converged to a gaussian bell.\n",
    "\n",
    "If you still are not convinced, don't be fooled about the shape, and just like at the values. The more data you have the narrower the bell is. That is another property that comes in quite handy. Let's plot the same experiment, but with overlap.\n",
    "\n",
    "Remember, **increasing the sample size your sample mean becomes more gaussian and also narrower.**\n"
   ]
  },
  {
   "cell_type": "code",
   "execution_count": 5,
   "metadata": {},
   "outputs": [
    {
     "data": {
      "image/png": "[encoded data removed]",
      "text/plain": [
       "<matplotlib.figure.Figure at 0x1183d0fd0>"
      ]
     },
     "metadata": {},
     "output_type": "display_data"
    }
   ],
   "source": [
    "plt.figure(figsize=(12,4))\n",
    "for s in range(len(sample_sizes)):\n",
    "    sample_vec = [np.mean(np.random.poisson(lam, size=sample_sizes[s])) for i in range(10000)]\n",
    "    plt.hist(sample_vec, bins=100, alpha=0.5)\n",
    "plt.legend(sample_sizes)\n",
    "plt.show()"
   ]
  },
  {
   "cell_type": "markdown",
   "metadata": {},
   "source": [
    "# The Standard Error\n",
    "\n",
    "Actually this bell shrinkage is well known and it is captured in a metric called **standard error**. \n",
    "\n",
    "The standard error is the error you make on your estimate. The more data you have the smaller this error - the variance or uncertainty of your estimate.\n",
    "\n",
    "The standard error, which could be read as the standard deviation of the error you are making when estimating, is defined as:\n",
    "\n",
    "$$ SE = \\sqrt {{\\sigma^2}\\over n } $$\n",
    "\n",
    "Where $\\sigma^2$ is the variance of $X$ (the original random variable) and $n$ is the number of averages you have (sample size).\n",
    "\n",
    "So if your sample size is very big you can be quite sure that given the CLT your sample mean is:\n",
    "\n",
    "$$ \\bar X \\approx N(\\mu, {\\sigma^2 \\over n}) $$\n",
    "\n",
    "This is powerful stuff. This means that even with one draw of n samples you can approximate quite well the error you are making and that your sample mean estimate will be centered at the population mean (this is called a consistent estimator). \n",
    "\n",
    "Just one draw. \n",
    "\n",
    "### Why is the sample mean so important?\n",
    "Well, it is quite useful indeed, but why? In my own case I use it for two things:\n",
    "\n",
    "- Estimate a constant (i.e. scalar). You are observing noisy data of a certain value, that could be a voltage, a conversion rate on an e-commerce or just about anything that you assume it is one value.\n",
    "- Estimate a property through the mean. If you know the nature of your problem you know that the mean tells you more (e.g. election is a binomial case, and hence the mean gives you the probability of winning).\n",
    "\n",
    "# The missing link: boostrapping\n",
    "If you are clever you would have observed that normally you will not have the luxury of observing a lot of draws of the same thing. Worry need not, you can create statistically equivalent (kinda) draws of the same random variable by bootstrapping. \n",
    "\n",
    "Bootstrapping means that from a vector of observations $(x_1,..., x_n)$ from the random variable $X$ you can create draws of $X$ by doing the following:"
   ]
  },
  {
   "cell_type": "raw",
   "metadata": {},
   "source": [
    "for each draw you want to make\n",
    "    for i in range(n):\n",
    "        take a random sample from (x_1, ..., x_n): x_j\n",
    "        keep x_j in the original vector (sample with replacement)"
   ]
  },
  {
   "cell_type": "markdown",
   "metadata": {},
   "source": [
    "With this procedure you end up with vector of size $n$ and yes, indeed, you can have the same value copied a number of times (the only possibility of not having any value repeated is the original draw).\n",
    "\n",
    "Those draws can be quite useful then to appoximate statistical properties of $X$."
   ]
  },
  {
   "cell_type": "code",
   "execution_count": null,
   "metadata": {},
   "outputs": [],
   "source": []
  }
 ],
 "metadata": {
  "kernelspec": {
   "display_name": "Python 3",
   "language": "python",
   "name": "python3"
  },
  "language_info": {
   "codemirror_mode": {
    "name": "ipython",
    "version": 3
   },
   "file_extension": ".py",
   "mimetype": "text/x-python",
   "name": "python",
   "nbconvert_exporter": "python",
   "pygments_lexer": "ipython3",
   "version": "3.6.1"
  }
 },
 "nbformat": 4,
 "nbformat_minor": 2
}
